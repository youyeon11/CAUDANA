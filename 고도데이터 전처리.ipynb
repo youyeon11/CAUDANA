{
 "cells": [
  {
   "cell_type": "code",
   "execution_count": 20,
   "id": "a7187753",
   "metadata": {},
   "outputs": [],
   "source": [
    "import pandas as pd\n",
    "import geopandas as gpd\n",
    "from shapely.geometry import Point"
   ]
  },
  {
   "cell_type": "code",
   "execution_count": null,
   "id": "3c87fe0a",
   "metadata": {},
   "outputs": [],
   "source": [
    "# datas 폴더 내에 파일 리스트를 files에 할당해줍니다.\n",
    "import os\n",
    "files = os.listdir('C:/Users/yurry/Documents/대학/서울시빅데이터캠퍼스(2023)/호우취약지역입지선정/data/서울특별시/2014 서울특별시[ascii]')\n",
    "files"
   ]
  },
  {
   "cell_type": "code",
   "execution_count": 24,
   "id": "bea0a862",
   "metadata": {},
   "outputs": [],
   "source": [
    "dpath2 = 'C:/Users/yurry/Documents/대학/서울시빅데이터캠퍼스(2023)/호우취약지역입지선정/data/서울특별시/2014 서울특별시[ascii]/'"
   ]
  },
  {
   "cell_type": "code",
   "execution_count": null,
   "id": "5fbf92a5",
   "metadata": {},
   "outputs": [],
   "source": [
    "files[1].split('.')[0]"
   ]
  },
  {
   "cell_type": "code",
   "execution_count": null,
   "id": "d3314d77",
   "metadata": {},
   "outputs": [],
   "source": [
    "df = pd.DataFrame()"
   ]
  },
  {
   "cell_type": "code",
   "execution_count": null,
   "id": "379e66e5",
   "metadata": {},
   "outputs": [],
   "source": [
    "for i in files:\n",
    "    table = pd.read_table( dpath_godo + 'f/{files[i]}'), skiprows=2, delim_whitespace=True, names=['x','y','z'])\n",
    "    df.append(table, inplace=True)\n",
    "    return df"
   ]
  },
  {
   "cell_type": "code",
   "execution_count": null,
   "id": "8370577b",
   "metadata": {},
   "outputs": [],
   "source": [
    "globals()[f'{files[i].split('.')[0]}'] = gpd.GeoDataFrame(f'{files[i].split('.')[0]}', geometry=f'{files[i].split('.')[0]}'.apply(lambda row: Point(row.x,row.y,row.z), axis=1))"
   ]
  },
  {
   "cell_type": "code",
   "execution_count": null,
   "id": "21d3d1eb",
   "metadata": {},
   "outputs": [],
   "source": [
    "godo_{'서울특별시 강남구.txt'}"
   ]
  },
  {
   "cell_type": "code",
   "execution_count": 22,
   "id": "64ec5101",
   "metadata": {},
   "outputs": [],
   "source": [
    "dpath = 'C:/Users/yurry/Documents/대학/서울시빅데이터캠퍼스(2023)/호우취약지역입지선정/data/'"
   ]
  },
  {
   "cell_type": "code",
   "execution_count": 23,
   "id": "09665dcf",
   "metadata": {},
   "outputs": [],
   "source": [
    "# 강남구\n",
    "gangnam_godo = pd.read_table(dpath + \"서울특별시/2014 서울특별시[ascii]/서울특별시 강남구.txt\", skiprows=2, delim_whitespace=True, names=['x','y','z'])\n",
    "gangnam_godo.head(3)\n",
    "\n",
    "#강동구\n",
    "gangdong_godo = pd.read_table(dpath + \"서울특별시/2014 서울특별시[ascii]/서울특별시 강동구.txt\", skiprows=2, delim_whitespace=True, names=['x','y','z'])\n",
    "gangdong_godo = gpd.GeoDataFrame(gangdong_godo, geometry=gangdong_godo.apply(lambda row: Point(row.x,row.y,row.z), axis=1))\n",
    "\n",
    "#강북구\n",
    "gangbook_godo = pd.read_table(dpath + \"서울특별시/2014 서울특별시[ascii]/서울특별시 강북구.txt\", skiprows=2, delim_whitespace=True, names=['x','y','z'])\n",
    "gangbook_godo = gpd.GeoDataFrame(gangbook_godo, geometry=gangbook_godo.apply(lambda row: Point(row.x,row.y,row.z), axis=1))\n",
    "\n",
    "#강서구\n",
    "gangseo_godo = pd.read_table(dpath + \"서울특별시/2014 서울특별시[ascii]/서울특별시 강서구.txt\", skiprows=2, delim_whitespace=True, names=['x','y','z'])\n",
    "gangseo_godo = gpd.GeoDataFrame(gangseo_godo, geometry=gangseo_godo.apply(lambda row: Point(row.x,row.y,row.z), axis=1))\n",
    "\n",
    "#관악구\n",
    "gwanak_godo = pd.read_table(dpath + \"서울특별시/2014 서울특별시[ascii]/서울특별시 관악구.txt\", skiprows=2, delim_whitespace=True, names=['x','y','z'])\n",
    "gwanak_godo = gpd.GeoDataFrame(gwanak_godo, geometry=gwanak_godo.apply(lambda row: Point(row.x,row.y,row.z), axis=1))\n",
    "\n",
    "#광진구\n",
    "gwangjin_godo = pd.read_table(dpath + \"서울특별시/2014 서울특별시[ascii]/서울특별시 광진구.txt\", skiprows=2, delim_whitespace=True, names=['x','y','z'])\n",
    "gwangjin_godo = gpd.GeoDataFrame(gwangjin_godo, geometry=gwangjin_godo.apply(lambda row: Point(row.x,row.y,row.z), axis=1))\n",
    "\n",
    "#구로구\n",
    "guro_godo = pd.read_table(dpath + \"서울특별시/2014 서울특별시[ascii]/서울특별시 구로구.txt\", skiprows=2, delim_whitespace=True, names=['x','y','z'])\n",
    "guro_godo = gpd.GeoDataFrame(guro_godo, geometry=guro_godo.apply(lambda row: Point(row.x,row.y,row.z), axis=1))\n",
    "\n",
    "#금천구\n",
    "geumcheon_godo = pd.read_table(dpath + \"서울특별시/2014 서울특별시[ascii]/서울특별시 금천구.txt\", skiprows=2, delim_whitespace=True, names=['x','y','z'])\n",
    "geumcheon_godo = gpd.GeoDataFrame(geumcheon_godo, geometry=geumcheon_godo.apply(lambda row: Point(row.x,row.y,row.z), axis=1))\n",
    "\n",
    "#노원구\n",
    "noone_godo = pd.read_table(dpath + \"서울특별시/2014 서울특별시[ascii]/서울특별시 노원구.txt\", skiprows=2, delim_whitespace=True, names=['x','y','z'])\n",
    "noone_godo = gpd.GeoDataFrame(noone_godo, geometry=noone_godo.apply(lambda row: Point(row.x,row.y,row.z), axis=1))\n",
    "\n",
    "#도봉구\n",
    "dobong_godo = pd.read_table(dpath + \"서울특별시/2014 서울특별시[ascii]/서울특별시 도봉구.txt\", skiprows=2, delim_whitespace=True, names=['x','y','z'])\n",
    "dobong_godo = gpd.GeoDataFrame(dobong_godo, geometry=dobong_godo.apply(lambda row: Point(row.x,row.y,row.z), axis=1))"
   ]
  },
  {
   "cell_type": "code",
   "execution_count": 25,
   "id": "334ec071",
   "metadata": {},
   "outputs": [],
   "source": [
    "#동대문구\n",
    "dongdae_godo = pd.read_table(dpath2 + \"서울특별시 동대문구.txt\", skiprows=2, delim_whitespace=True, names=['x','y','z'])\n",
    "dongdae_godo = gpd.GeoDataFrame(dongdae_godo, geometry=dongdae_godo.apply(lambda row: Point(row.x,row.y,row.z), axis=1))\n",
    "\n",
    "#동작구\n",
    "dongzak_godo = pd.read_table(dpath2 + \"서울특별시 동작구.txt\",skiprows=2, delim_whitespace=True, names=['x','y','z'])\n",
    "dongzak_godo = gpd.GeoDataFrame(dongzak_godo, geometry=dongzak_godo.apply(lambda row: Point(row.x,row.y,row.z), axis=1))\n",
    "\n",
    "#마포구\n",
    "mapo_godo = pd.read_table(dpath2 + \"서울특별시 마포구.txt\",skiprows=2, delim_whitespace=True, names=['x','y','z'])\n",
    "mapo_godo = gpd.GeoDataFrame(mapo_godo, geometry=mapo_godo.apply(lambda row: Point(row.x,row.y,row.z), axis=1))\n",
    "\n",
    "\n",
    "#서대문구\n",
    "seodae_godo = pd.read_table(dpath2 + \"서울특별시 서대문구.txt\",skiprows=2, delim_whitespace=True, names=['x','y','z'])\n",
    "seodae_godo = gpd.GeoDataFrame(seodae_godo, geometry=seodae_godo.apply(lambda row: Point(row.x,row.y,row.z), axis=1))\n",
    "\n",
    "#서초구\n",
    "seocho_godo = pd.read_table(dpath2 + \"서울특별시 서초구.txt\",skiprows=2, delim_whitespace=True, names=['x','y','z'])\n",
    "seocho_godo = gpd.GeoDataFrame(seocho_godo, geometry=seocho_godo.apply(lambda row: Point(row.x,row.y,row.z), axis=1))\n",
    "\n",
    "#성동구\n",
    "seongdong_godo = pd.read_table(dpath2 + \"서울특별시 성동구.txt\",skiprows=2, delim_whitespace=True, names=['x','y','z'])\n",
    "seongdong_godo = gpd.GeoDataFrame(seongdong_godo, geometry=seongdong_godo.apply(lambda row: Point(row.x,row.y,row.z), axis=1))\n",
    "\n",
    "#성북구\n",
    "seongbook_godo = pd.read_table(dpath2 + \"서울특별시 성북구.txt\",skiprows=2, delim_whitespace=True, names=['x','y','z'])\n",
    "seongbook_godo = gpd.GeoDataFrame(seongbook_godo, geometry=seongbook_godo.apply(lambda row: Point(row.x,row.y,row.z), axis=1))\n",
    "\n",
    "#송파구\n",
    "songpa_godo = pd.read_table(dpath2 + \"서울특별시 송파구.txt\",skiprows=2, delim_whitespace=True, names=['x','y','z'])\n",
    "songpa_godo = gpd.GeoDataFrame(songpa_godo, geometry=songpa_godo.apply(lambda row: Point(row.x,row.y,row.z), axis=1))\n",
    "\n",
    "#양천구\n",
    "yangcheon_godo = pd.read_table(dpath2 + \"서울특별시 양천구.txt\",skiprows=2, delim_whitespace=True, names=['x','y','z'])\n",
    "yangcheon_godo = gpd.GeoDataFrame(yangcheon_godo, geometry=yangcheon_godo.apply(lambda row: Point(row.x,row.y,row.z), axis=1))\n",
    "\n",
    "#영등포구\n",
    "yeongdueng_godo = pd.read_table(dpath2 + \"서울특별시 영등포구.txt\",skiprows=2, delim_whitespace=True, names=['x','y','z'])\n",
    "yeongdueng_godo = gpd.GeoDataFrame(yeongdueng_godo, geometry=yeongdueng_godo.apply(lambda row: Point(row.x,row.y,row.z), axis=1))\n",
    "\n",
    "#용산구\n",
    "yongsan_godo = pd.read_table(dpath2 + \"서울특별시 용산구.txt\",skiprows=2, delim_whitespace=True, names=['x','y','z'])\n",
    "yongsan_godo = gpd.GeoDataFrame(yongsan_godo, geometry=yongsan_godo.apply(lambda row: Point(row.x,row.y,row.z), axis=1))\n",
    "\n",
    "#은평구\n",
    "eunpyeong_godo = pd.read_table(dpath2 + \"서울특별시 은평구.txt\",skiprows=2, delim_whitespace=True, names=['x','y','z'])\n",
    "eunpyeong_godo = gpd.GeoDataFrame(eunpyeong_godo, geometry=eunpyeong_godo.apply(lambda row: Point(row.x,row.y,row.z), axis=1))\n",
    "\n",
    "#종로구\n",
    "jongro_godo = pd.read_table(dpath2 + \"서울특별시 종로구.txt\",skiprows=2, delim_whitespace=True, names=['x','y','z'])\n",
    "jongro_godo = gpd.GeoDataFrame(jongro_godo, geometry=jongro_godo.apply(lambda row: Point(row.x,row.y,row.z), axis=1))\n",
    "\n",
    "#중구\n",
    "joong_godo = pd.read_table(dpath2 + \"서울특별시 중구.txt\",skiprows=2, delim_whitespace=True, names=['x','y','z'])\n",
    "joong_godo = gpd.GeoDataFrame(joong_godo, geometry=joong_godo.apply(lambda row: Point(row.x,row.y,row.z), axis=1))\n",
    "\n",
    "#중랑구\n",
    "joongrang_godo = pd.read_table(dpath2 + \"서울특별시 중랑구.txt\",skiprows=2, delim_whitespace=True, names=['x','y','z'])\n",
    "joongrang_godo = gpd.GeoDataFrame(joongrang_godo, geometry=joongrang_godo.apply(lambda row: Point(row.x,row.y,row.z), axis=1))"
   ]
  },
  {
   "cell_type": "code",
   "execution_count": null,
   "id": "211397ca",
   "metadata": {},
   "outputs": [],
   "source": [
    "# to shapefile\n",
    "gangnam_godo.to_file(dpath + \"서울특별시/2014 서울특별시[ascii]/서울특별시 강남구.shp\")"
   ]
  },
  {
   "cell_type": "code",
   "execution_count": null,
   "id": "b9b75b07",
   "metadata": {},
   "outputs": [],
   "source": [
    "gangnam_godo['z'].min()\n",
    "gangnam_godo['z'].max()\n",
    "gangnam_godo['z'].describe()"
   ]
  },
  {
   "cell_type": "code",
   "execution_count": 26,
   "id": "d2ac0fb4",
   "metadata": {},
   "outputs": [
    {
     "data": {
      "text/html": [
       "<div>\n",
       "<style scoped>\n",
       "    .dataframe tbody tr th:only-of-type {\n",
       "        vertical-align: middle;\n",
       "    }\n",
       "\n",
       "    .dataframe tbody tr th {\n",
       "        vertical-align: top;\n",
       "    }\n",
       "\n",
       "    .dataframe thead th {\n",
       "        text-align: right;\n",
       "    }\n",
       "</style>\n",
       "<table border=\"1\" class=\"dataframe\">\n",
       "  <thead>\n",
       "    <tr style=\"text-align: right;\">\n",
       "      <th></th>\n",
       "      <th>x</th>\n",
       "      <th>y</th>\n",
       "      <th>z</th>\n",
       "    </tr>\n",
       "  </thead>\n",
       "  <tbody>\n",
       "    <tr>\n",
       "      <th>count</th>\n",
       "      <td>8039.000000</td>\n",
       "      <td>8039.000000</td>\n",
       "      <td>8039.000000</td>\n",
       "    </tr>\n",
       "    <tr>\n",
       "      <th>mean</th>\n",
       "      <td>202883.400095</td>\n",
       "      <td>541424.270598</td>\n",
       "      <td>80.879267</td>\n",
       "    </tr>\n",
       "    <tr>\n",
       "      <th>std</th>\n",
       "      <td>2854.126182</td>\n",
       "      <td>2618.982303</td>\n",
       "      <td>81.724974</td>\n",
       "    </tr>\n",
       "    <tr>\n",
       "      <th>min</th>\n",
       "      <td>197816.240000</td>\n",
       "      <td>536101.060000</td>\n",
       "      <td>2.590000</td>\n",
       "    </tr>\n",
       "    <tr>\n",
       "      <th>25%</th>\n",
       "      <td>200516.240000</td>\n",
       "      <td>539521.060000</td>\n",
       "      <td>22.300000</td>\n",
       "    </tr>\n",
       "    <tr>\n",
       "      <th>50%</th>\n",
       "      <td>202676.240000</td>\n",
       "      <td>541141.060000</td>\n",
       "      <td>49.410000</td>\n",
       "    </tr>\n",
       "    <tr>\n",
       "      <th>75%</th>\n",
       "      <td>205196.240000</td>\n",
       "      <td>543391.060000</td>\n",
       "      <td>112.880000</td>\n",
       "    </tr>\n",
       "    <tr>\n",
       "      <th>max</th>\n",
       "      <td>208886.240000</td>\n",
       "      <td>547441.060000</td>\n",
       "      <td>540.440000</td>\n",
       "    </tr>\n",
       "  </tbody>\n",
       "</table>\n",
       "</div>"
      ],
      "text/plain": [
       "                   x              y            z\n",
       "count    8039.000000    8039.000000  8039.000000\n",
       "mean   202883.400095  541424.270598    80.879267\n",
       "std      2854.126182    2618.982303    81.724974\n",
       "min    197816.240000  536101.060000     2.590000\n",
       "25%    200516.240000  539521.060000    22.300000\n",
       "50%    202676.240000  541141.060000    49.410000\n",
       "75%    205196.240000  543391.060000   112.880000\n",
       "max    208886.240000  547441.060000   540.440000"
      ]
     },
     "execution_count": 26,
     "metadata": {},
     "output_type": "execute_result"
    }
   ],
   "source": [
    "seocho_godo.describe()"
   ]
  }
 ],
 "metadata": {
  "kernelspec": {
   "display_name": "Python 3 (ipykernel)",
   "language": "python",
   "name": "python3"
  },
  "language_info": {
   "codemirror_mode": {
    "name": "ipython",
    "version": 3
   },
   "file_extension": ".py",
   "mimetype": "text/x-python",
   "name": "python",
   "nbconvert_exporter": "python",
   "pygments_lexer": "ipython3",
   "version": "3.9.12"
  }
 },
 "nbformat": 4,
 "nbformat_minor": 5
}
